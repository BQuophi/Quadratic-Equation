{
 "cells": [
  {
   "cell_type": "code",
   "execution_count": 6,
   "id": "532b7083",
   "metadata": {},
   "outputs": [],
   "source": [
    "# Python program that takes input from the user for solving a quadractic equation\n",
    "\n",
    "# Solve the quadratic equation (ax**2 + bx + c = 0)\n",
    "# First, import complex math module\n",
    "\n",
    "import cmath\n",
    "\n",
    "a = int(input('Enter coefficient of x-squared: '))\n",
    "b = int(input('Enter coefficient of x: '))\n",
    "c = int(input('Enter constant: '))\n",
    "\n",
    "# calculate the discriminant\n",
    "# NOTE: When it is positive, we get 2 real solutions or roots,when it is zero we get just ONE root solution and when it is negative we get complex solutions or roots.\n",
    "\n",
    "d = (b**2) - (4*a*c)\n",
    "\n",
    "# find two solutions\n",
    "sol1 = (-b-cmath.sqrt(d))/(2*a)\n",
    "sol2 = (-b+cmath.sqrt(d))/(2*a)\n",
    "\n",
    "print('The roots of the quadratic equation are',sol1,'and',sol2)"
   ]
  },
  {
   "cell_type": "code",
   "execution_count": null,
   "id": "ae702bb3",
   "metadata": {},
   "outputs": [],
   "source": []
  }
 ],
 "metadata": {
  "kernelspec": {
   "display_name": "Python 3 (ipykernel)",
   "language": "python",
   "name": "python3"
  },
  "language_info": {
   "codemirror_mode": {
    "name": "ipython",
    "version": 3
   },
   "file_extension": ".py",
   "mimetype": "text/x-python",
   "name": "python",
   "nbconvert_exporter": "python",
   "pygments_lexer": "ipython3",
   "version": "3.9.7"
  }
 },
 "nbformat": 4,
 "nbformat_minor": 5
}
